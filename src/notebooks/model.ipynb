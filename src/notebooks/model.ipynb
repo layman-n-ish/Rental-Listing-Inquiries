{
 "cells": [
  {
   "cell_type": "code",
   "execution_count": 1,
   "metadata": {},
   "outputs": [
    {
     "name": "stderr",
     "output_type": "stream",
     "text": [
      "/usr/local/lib/python3.5/dist-packages/sklearn/cross_validation.py:41: DeprecationWarning: This module was deprecated in version 0.18 in favor of the model_selection module into which all the refactored classes and functions are moved. Also note that the interface of the new CV iterators are different from that of this module. This module will be removed in 0.20.\n",
      "  \"This module will be removed in 0.20.\", DeprecationWarning)\n"
     ]
    }
   ],
   "source": [
    "import json\n",
    "import numpy as np\n",
    "import pandas as pd\n",
    "from sklearn.cross_validation import train_test_split\n",
    "from sklearn import metrics\n",
    "from sklearn.linear_model import LogisticRegression \n",
    "from sklearn.ensemble import RandomForestClassifier\n",
    "from sklearn.model_selection import train_test_split\n",
    "from sklearn.metrics import log_loss\n",
    "from xgboost import XGBClassifier\n",
    "from sklearn.model_selection import GridSearchCV\n",
    "from sklearn.model_selection import StratifiedKFold"
   ]
  },
  {
   "cell_type": "code",
   "execution_count": 2,
   "metadata": {},
   "outputs": [],
   "source": [
    "def get_feature_vector(df):\n",
    "    \n",
    "    ulimit = np.percentile(df.price.values, 99)\n",
    "    df['price'].loc[df.price > ulimit] = ulimit\n",
    "\n",
    "    llimit = np.percentile(df.latitude.values, 1)\n",
    "    ulimit = np.percentile(df.latitude.values, 99)\n",
    "    df['latitude'].loc[df.latitude < llimit] = llimit\n",
    "    df['latitude'].loc[df.latitude > ulimit] = ulimit\n",
    "\n",
    "    llimit = np.percentile(df.longitude.values, 1)\n",
    "    ulimit = np.percentile(df.longitude.values, 99)\n",
    "    df['longitude'].loc[df.longitude < llimit] = llimit\n",
    "    df['longitude'].loc[df.longitude > ulimit] = ulimit\n",
    "    \n",
    "    df['bathrooms'].loc[df.bathrooms == 0] = 0.5\n",
    "    df['bedrooms'].loc[df.bedrooms == 0] = 0.5\n",
    "        \n",
    "    df[\"created\"] = pd.to_datetime(df[\"created\"])\n",
    "    df[\"created_year\"] = df[\"created\"].dt.year\n",
    "    df[\"created_month\"] = df[\"created\"].dt.month\n",
    "    df[\"created_day\"] = df[\"created\"].dt.day\n",
    "    df[\"created_hour\"] = df[\"created\"].dt.hour\n",
    "    \n",
    "    df['price_per_bed'] = df['price']/df['bedrooms']\n",
    "    df['price_per_bath'] = df['price']/df['bathrooms']\n",
    "    \n",
    "    df['description'] = df['description'].str.lower().replace('[^a-zA-Z0-9]', ' ', regex=True)\n",
    "    for i in df.index:\n",
    "        df.loc[i, 'len_description'] = len(df.loc[i, 'description'])\n",
    "        df.loc[i, 'num_features'] = len(df.loc[i, 'features'])\n",
    "    \n",
    "    num_feats = [\"bathrooms\", \"bedrooms\", \"latitude\", \"longitude\", \"price\", \"num_features\", \"len_description\",\n",
    "             \"created_year\", \"created_month\", \"created_day\", \"created_hour\", \"price_per_bed\", \"price_per_bath\"]\n",
    "    X = df[num_feats]\n",
    "    \n",
    "    print(X.head())\n",
    "    \n",
    "    return X"
   ]
  },
  {
   "cell_type": "code",
   "execution_count": 3,
   "metadata": {},
   "outputs": [
    {
     "name": "stderr",
     "output_type": "stream",
     "text": [
      "/usr/local/lib/python3.5/dist-packages/pandas/core/indexing.py:189: SettingWithCopyWarning: \n",
      "A value is trying to be set on a copy of a slice from a DataFrame\n",
      "\n",
      "See the caveats in the documentation: http://pandas.pydata.org/pandas-docs/stable/indexing.html#indexing-view-versus-copy\n",
      "  self._setitem_with_indexer(indexer, value)\n"
     ]
    },
    {
     "name": "stdout",
     "output_type": "stream",
     "text": [
      "        bathrooms  bedrooms  latitude  longitude   price  num_features  \\\n",
      "10            1.5       3.0   40.7145   -73.9425  3000.0           0.0   \n",
      "100004        1.0       1.0   40.7388   -74.0018  2850.0           4.0   \n",
      "100007        1.0       1.0   40.7539   -73.9677  3275.0           2.0   \n",
      "100014        2.0       4.0   40.7429   -74.0028  7995.0           0.0   \n",
      "100026        1.0       1.0   40.8234   -73.9457  1725.0           4.0   \n",
      "\n",
      "        len_description  created_year  created_month  created_day  \\\n",
      "10                588.0          2016              6           24   \n",
      "100004            691.0          2016              4           17   \n",
      "100007            492.0          2016              4           18   \n",
      "100014              8.0          2016              4           19   \n",
      "100026             24.0          2016              4           20   \n",
      "\n",
      "        created_hour  price_per_bed  price_per_bath  \n",
      "10                 7        1000.00          2000.0  \n",
      "100004             3        2850.00          2850.0  \n",
      "100007             2        3275.00          3275.0  \n",
      "100014             4        1998.75          3997.5  \n",
      "100026             2        1725.00          1725.0  \n",
      "        bathrooms  bedrooms  latitude  longitude   price  num_features  \\\n",
      "10000         1.0       2.0   40.7947   -73.9667  5465.0           5.0   \n",
      "100013        1.0       4.0   40.8241   -73.9493  3350.0           1.0   \n",
      "100016        1.0       2.0   40.8012   -73.9660  3600.0           8.0   \n",
      "100020        2.0       1.0   40.7427   -73.9957  5645.0           8.0   \n",
      "100099        2.0       2.0   40.7471   -73.9867  6500.0           8.0   \n",
      "\n",
      "        len_description  created_year  created_month  created_day  \\\n",
      "10000               8.0          2016              6           12   \n",
      "100013            479.0          2016              4           28   \n",
      "100016            579.0          2016              4           27   \n",
      "100020            948.0          2016              4           13   \n",
      "100099            865.0          2016              4            6   \n",
      "\n",
      "        created_hour  price_per_bed  price_per_bath  \n",
      "10000             12         2732.5          5465.0  \n",
      "100013             1          837.5          3350.0  \n",
      "100016             3         1800.0          3600.0  \n",
      "100020             6         5645.0          2822.5  \n",
      "100099             6         3250.0          3250.0  \n",
      "10        medium\n",
      "100004      high\n",
      "100007       low\n",
      "100014    medium\n",
      "100026    medium\n",
      "Name: interest_level, dtype: object\n"
     ]
    }
   ],
   "source": [
    "file_X = 'train.json'\n",
    "df = pd.read_json(file_X)\n",
    "\n",
    "file_X_test = 'test.json'\n",
    "df_test = pd.read_json(file_X_test)\n",
    "\n",
    "X = get_feature_vector(df)\n",
    "y = df[\"interest_level\"]\n",
    "\n",
    "X_test = get_feature_vector(df_test)\n",
    "\n",
    "print(y.head())"
   ]
  },
  {
   "cell_type": "code",
   "execution_count": 4,
   "metadata": {},
   "outputs": [],
   "source": [
    "X_train, X_val, y_train, y_val = train_test_split(X, y, test_size=0.25)"
   ]
  },
  {
   "cell_type": "code",
   "execution_count": 7,
   "metadata": {},
   "outputs": [
    {
     "name": "stdout",
     "output_type": "stream",
     "text": [
      "0.7133868068047021\n",
      "        listing_id      high       low    medium\n",
      "10000         5529  0.009373  0.885950  0.104677\n",
      "100013       14597  0.049852  0.718807  0.231341\n",
      "100016       43396  0.047581  0.698299  0.254120\n",
      "100020       25538  0.006465  0.899898  0.093637\n",
      "100099       26644  0.010196  0.866909  0.122895\n"
     ]
    }
   ],
   "source": [
    "model = LogisticRegression()\n",
    "model.fit(X_train, y_train)\n",
    "y_val_pred = model.predict_proba(X_val)\n",
    "print(log_loss(y_val, y_val_pred))\n",
    "\n",
    "y_test = model.predict_proba(X_test)\n",
    "\n",
    "y_pred = pd.DataFrame()\n",
    "y_pred['listing_id'] = df_test['listing_id']\n",
    "\n",
    "for i in range(len(list(y_test))):\n",
    "    [y_pred.loc[y_pred.index[i], 'high'], y_pred.loc[y_pred.index[i], 'low'], y_pred.loc[y_pred.index[i], 'medium']] = list(y_test[i])\n",
    "\n",
    "print(y_pred.head())\n",
    "y_pred.to_csv(\"pred_lr.csv\", index=False)"
   ]
  },
  {
   "cell_type": "code",
   "execution_count": 7,
   "metadata": {},
   "outputs": [
    {
     "name": "stdout",
     "output_type": "stream",
     "text": [
      "Best: -0.604912 using {'n_estimators': 700, 'learning_rate': 0.1}\n",
      "-0.605352 (0.012756) with: {'n_estimators': 500, 'learning_rate': 0.1}\n",
      "-0.604912 (0.013798) with: {'n_estimators': 700, 'learning_rate': 0.1}\n",
      "-0.606470 (0.014769) with: {'n_estimators': 1000, 'learning_rate': 0.1}\n",
      "-0.613520 (0.014455) with: {'n_estimators': 500, 'learning_rate': 0.3}\n",
      "-0.620953 (0.016319) with: {'n_estimators': 700, 'learning_rate': 0.3}\n",
      "-0.633596 (0.017988) with: {'n_estimators': 1000, 'learning_rate': 0.3}\n",
      "-0.631531 (0.015554) with: {'n_estimators': 500, 'learning_rate': 0.5}\n",
      "-0.647192 (0.017996) with: {'n_estimators': 700, 'learning_rate': 0.5}\n",
      "-0.669653 (0.019068) with: {'n_estimators': 1000, 'learning_rate': 0.5}\n"
     ]
    }
   ],
   "source": [
    "model = XGBClassifier()\n",
    "n_estimators = [500, 700, 1000]\n",
    "learning_rate = [0.1, 0.3, 0.5]\n",
    "param_grid = dict(learning_rate=learning_rate, n_estimators=n_estimators)\n",
    "kfold = StratifiedKFold(n_splits=7, shuffle=True, random_state=7)\n",
    "grid_search = GridSearchCV(model, param_grid, scoring=\"neg_log_loss\", n_jobs=-1, cv=kfold)\n",
    "grid_result = grid_search.fit(X_train, y_train)\n",
    "# summarize results\n",
    "print(\"Best: %f using %s\" % (grid_result.best_score_, grid_result.best_params_))\n",
    "means = grid_result.cv_results_['mean_test_score']\n",
    "stds = grid_result.cv_results_['std_test_score']\n",
    "params = grid_result.cv_results_['params']\n",
    "for mean, stdev, param in zip(means, stds, params):\n",
    "    print(\"%f (%f) with: %r\" % (mean, stdev, param))\n"
   ]
  },
  {
   "cell_type": "code",
   "execution_count": 8,
   "metadata": {},
   "outputs": [
    {
     "name": "stdout",
     "output_type": "stream",
     "text": [
      "0.602655225769174\n"
     ]
    }
   ],
   "source": [
    "y_val_pred = grid_search.predict_proba(X_val)\n",
    "print(log_loss(y_val, y_val_pred))"
   ]
  },
  {
   "cell_type": "code",
   "execution_count": 9,
   "metadata": {},
   "outputs": [
    {
     "name": "stdout",
     "output_type": "stream",
     "text": [
      "        listing_id      high       low    medium\n",
      "10000         5529  0.002490  0.979726  0.017783\n",
      "100013       14597  0.005346  0.952540  0.042114\n",
      "100016       43396  0.005745  0.901037  0.093218\n",
      "100020       25538  0.006124  0.947461  0.046415\n",
      "100099       26644  0.013510  0.775547  0.210943\n"
     ]
    }
   ],
   "source": [
    "y_test = grid_search.predict_proba(X_test)\n",
    "y_test = list(y_test)\n",
    "\n",
    "y_pred = pd.DataFrame()\n",
    "y_pred['listing_id'] = df_test['listing_id']\n",
    "\n",
    "for i in range(len(y_test)):\n",
    "    [y_pred.loc[y_pred.index[i], 'high'], y_pred.loc[y_pred.index[i], 'low'], y_pred.loc[y_pred.index[i], 'medium']] = list(y_test[i])\n",
    "\n",
    "print(y_pred.head())\n",
    "y_pred.to_csv(\"pred_xg.csv\", index=False)\n"
   ]
  },
  {
   "cell_type": "code",
   "execution_count": 6,
   "metadata": {},
   "outputs": [
    {
     "name": "stdout",
     "output_type": "stream",
     "text": [
      "0.6168611118603844\n"
     ]
    }
   ],
   "source": [
    "clf = RandomForestClassifier(n_estimators=800, max_depth=20, n_jobs=-1)\n",
    "clf.fit(X_train, y_train)\n",
    "y_val_pred = clf.predict_proba(X_val)\n",
    "print(log_loss(y_val, y_val_pred))"
   ]
  },
  {
   "cell_type": "code",
   "execution_count": 7,
   "metadata": {},
   "outputs": [
    {
     "data": {
      "text/plain": [
       "[0.094, 0.79, 0.116]"
      ]
     },
     "execution_count": 7,
     "metadata": {},
     "output_type": "execute_result"
    }
   ],
   "source": [
    "y_test = clf.predict_proba(X_test)\n",
    "y_test = list(y_test)\n",
    "list(y_test[1])"
   ]
  },
  {
   "cell_type": "code",
   "execution_count": 8,
   "metadata": {},
   "outputs": [
    {
     "name": "stdout",
     "output_type": "stream",
     "text": [
      "        listing_id   high    low  medium\n",
      "10000         5529  0.004  0.991   0.005\n",
      "100013       14597  0.094  0.790   0.116\n",
      "100016       43396  0.001  0.975   0.024\n",
      "100020       25538  0.014  0.925   0.061\n",
      "100099       26644  0.020  0.783   0.197\n"
     ]
    }
   ],
   "source": [
    "y_pred = pd.DataFrame()\n",
    "y_pred['listing_id'] = df_test['listing_id']\n",
    "\n",
    "for i in range(len(y_test)):\n",
    "    [y_pred.loc[y_pred.index[i], 'high'], y_pred.loc[y_pred.index[i], 'low'], y_pred.loc[y_pred.index[i], 'medium']] = list(y_test[i])\n",
    "\n",
    "print(y_pred.head())"
   ]
  },
  {
   "cell_type": "code",
   "execution_count": 9,
   "metadata": {},
   "outputs": [],
   "source": [
    "#y_pred.to_csv(\"pred_rf.csv\", index=False)"
   ]
  },
  {
   "cell_type": "code",
   "execution_count": 1,
   "metadata": {},
   "outputs": [
    {
     "ename": "NameError",
     "evalue": "name 'df' is not defined",
     "output_type": "error",
     "traceback": [
      "\u001b[0;31m---------------------------------------------------------------------------\u001b[0m",
      "\u001b[0;31mNameError\u001b[0m                                 Traceback (most recent call last)",
      "\u001b[0;32m<ipython-input-1-45a3e4402f80>\u001b[0m in \u001b[0;36m<module>\u001b[0;34m()\u001b[0m\n\u001b[0;32m----> 1\u001b[0;31m \u001b[0mix\u001b[0m \u001b[0;34m=\u001b[0m \u001b[0mdf\u001b[0m\u001b[0;34m.\u001b[0m\u001b[0mbuilding_id\u001b[0m \u001b[0;34m==\u001b[0m \u001b[0;34m'0'\u001b[0m\u001b[0;34m\u001b[0m\u001b[0m\n\u001b[0m\u001b[1;32m      2\u001b[0m \u001b[0mprint\u001b[0m\u001b[0;34m(\u001b[0m\u001b[0mdf\u001b[0m\u001b[0;34m.\u001b[0m\u001b[0mloc\u001b[0m\u001b[0;34m[\u001b[0m\u001b[0mix\u001b[0m\u001b[0;34m]\u001b[0m\u001b[0;34m[\u001b[0m\u001b[0;34m'street_address'\u001b[0m\u001b[0;34m]\u001b[0m\u001b[0;34m)\u001b[0m\u001b[0;34m\u001b[0m\u001b[0m\n",
      "\u001b[0;31mNameError\u001b[0m: name 'df' is not defined"
     ]
    }
   ],
   "source": []
  },
  {
   "cell_type": "code",
   "execution_count": null,
   "metadata": {},
   "outputs": [],
   "source": []
  }
 ],
 "metadata": {
  "kernelspec": {
   "display_name": "Python 3",
   "language": "python",
   "name": "python3"
  },
  "language_info": {
   "codemirror_mode": {
    "name": "ipython",
    "version": 3
   },
   "file_extension": ".py",
   "mimetype": "text/x-python",
   "name": "python",
   "nbconvert_exporter": "python",
   "pygments_lexer": "ipython3",
   "version": "3.5.2"
  }
 },
 "nbformat": 4,
 "nbformat_minor": 2
}
