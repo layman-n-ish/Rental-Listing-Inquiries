{
 "cells": [
  {
   "cell_type": "code",
   "execution_count": 2,
   "metadata": {},
   "outputs": [],
   "source": [
    "import os\n",
    "import sys\n",
    "import operator\n",
    "import numpy as np\n",
    "import pandas as pd\n",
    "from scipy import sparse\n",
    "import xgboost as xgb\n",
    "import random\n",
    "from sklearn import model_selection, preprocessing, ensemble\n",
    "from sklearn.metrics import log_loss\n",
    "from sklearn.feature_extraction.text import TfidfVectorizer, CountVectorizer\n",
    "#input data\n",
    "train_df=pd.read_json('data/train.json')\n",
    "test_df=pd.read_json('data/test.json')\n",
    "target_num_map = {'high':0, 'medium':2, 'low':1}"
   ]
  },
  {
   "cell_type": "code",
   "execution_count": 3,
   "metadata": {},
   "outputs": [],
   "source": [
    "#basic features\n",
    "train_df[\"price_t\"] =train_df[\"price\"]/train_df[\"bedrooms\"]\n",
    "test_df[\"price_t\"] = test_df[\"price\"]/test_df[\"bedrooms\"] \n",
    "train_df[\"room_sum\"] = train_df[\"bedrooms\"]+train_df[\"bathrooms\"] \n",
    "test_df[\"room_sum\"] = test_df[\"bedrooms\"]+test_df[\"bathrooms\"] \n",
    "\n",
    "# count of photos #\n",
    "train_df[\"num_photos\"] = train_df[\"photos\"].apply(len)\n",
    "test_df[\"num_photos\"] = test_df[\"photos\"].apply(len)\n",
    "\n",
    "# count of \"features\" #\n",
    "train_df[\"num_features\"] = train_df[\"features\"].apply(len)\n",
    "test_df[\"num_features\"] = test_df[\"features\"].apply(len)\n",
    "\n",
    "# count of words present in description column #\n",
    "train_df[\"num_description_words\"] = train_df[\"description\"].apply(lambda x: len(x.split(\" \")))\n",
    "test_df[\"num_description_words\"] = test_df[\"description\"].apply(lambda x: len(x.split(\" \")))\n",
    "\n",
    "train_df[\"pos\"] = train_df.longitude.round(3).astype(str) + '_' + train_df.latitude.round(3).astype(str)\n",
    "test_df[\"pos\"] = test_df.longitude.round(3).astype(str) + '_' + test_df.latitude.round(3).astype(str)\n",
    "\n",
    "vals = train_df['pos'].value_counts()\n",
    "dvals = vals.to_dict()\n",
    "train_df[\"density\"] = train_df['pos'].apply(lambda x: dvals.get(x, vals.min()))\n",
    "test_df[\"density\"] = test_df['pos'].apply(lambda x: dvals.get(x, vals.min()))\n",
    "\n",
    "features_to_use=[\"bathrooms\", \"bedrooms\", \"latitude\", \"longitude\", \"price\",\"price_t\",\"num_photos\", \"num_features\", \"num_description_words\",\"listing_id\",\"density\"]"
   ]
  },
  {
   "cell_type": "code",
   "execution_count": 4,
   "metadata": {},
   "outputs": [],
   "source": [
    "def runXGB(train_X, train_y, test_X, test_y=None, feature_names=None, seed_val=0, num_rounds=1000):\n",
    "    param = {}\n",
    "    param['objective'] = 'multi:softprob'\n",
    "    param['eta'] = 0.03\n",
    "    param['max_depth'] = 6\n",
    "    param['silent'] = 1000\n",
    "    param['num_class'] = 3\n",
    "    param['eval_metric'] = \"mlogloss\"\n",
    "    param['min_child_weight'] = 1\n",
    "    param['subsample'] = 0.7\n",
    "    param['colsample_bytree'] = 0.7\n",
    "    param['seed'] = seed_val\n",
    "    num_rounds = num_rounds\n",
    "\n",
    "    plst = list(param.items())\n",
    "    xgtrain = xgb.DMatrix(train_X, label=train_y)\n",
    "\n",
    "    if test_y is not None:\n",
    "        xgtest = xgb.DMatrix(test_X, label=test_y)\n",
    "        watchlist = [ (xgtrain,'train'), (xgtest, 'test') ]\n",
    "        model = xgb.train(plst, xgtrain, num_rounds, watchlist, early_stopping_rounds=20)\n",
    "    else:\n",
    "        xgtest = xgb.DMatrix(test_X)\n",
    "        model = xgb.train(plst, xgtrain, num_rounds)\n",
    "\n",
    "    pred_test_y = model.predict(xgtest)\n",
    "    return pred_test_y, model"
   ]
  },
  {
   "cell_type": "code",
   "execution_count": 5,
   "metadata": {},
   "outputs": [
    {
     "name": "stdout",
     "output_type": "stream",
     "text": [
      "39481\n"
     ]
    }
   ],
   "source": [
    "index=list(range(train_df.shape[0]))\n",
    "random.shuffle(index)\n",
    "# print(index)\n",
    "a=[np.nan]*len(train_df)\n",
    "b=[np.nan]*len(train_df)\n",
    "c=[np.nan]*len(train_df)\n",
    "d=[np.nan]*len(train_df)\n",
    "print(len(train_df['manager_id'].values))\n",
    "\n",
    "for i in range(5):\n",
    "    building_level={}\n",
    "    for j in train_df['manager_id'].values:\n",
    "        building_level[j]=[0,0,0]\n",
    "    test_index=index[int((i*train_df.shape[0])/5):int(((i+1)*train_df.shape[0])/5)]\n",
    "    train_index=list(set(index).difference(test_index))\n",
    "    for j in train_index:\n",
    "        temp=train_df.iloc[j]\n",
    "        if temp['interest_level']=='low':\n",
    "            building_level[temp['manager_id']][0]+=1\n",
    "        if temp['interest_level']=='medium':\n",
    "            building_level[temp['manager_id']][1]+=1\n",
    "        if temp['interest_level']=='high':\n",
    "            building_level[temp['manager_id']][2]+=1\n",
    "    for j in test_index:\n",
    "        temp=train_df.iloc[j]\n",
    "        if sum(building_level[temp['manager_id']])!=0:\n",
    "            a[j]=building_level[temp['manager_id']][0]*1.0/sum(building_level[temp['manager_id']])\n",
    "            b[j]=building_level[temp['manager_id']][1]*1.0/sum(building_level[temp['manager_id']])\n",
    "            c[j]=building_level[temp['manager_id']][2]*1.0/sum(building_level[temp['manager_id']])\n",
    "        d[j] = sum(building_level[temp['manager_id']])\n",
    "train_df['manager_level_low']=a\n",
    "train_df['manager_level_medium']=b\n",
    "train_df['manager_level_high']=c\n",
    "train_df[\"manager_post_num\"]=d\n"
   ]
  },
  {
   "cell_type": "code",
   "execution_count": 6,
   "metadata": {},
   "outputs": [],
   "source": [
    "a=[]\n",
    "b=[]\n",
    "c=[]\n",
    "d=[]\n",
    "building_level={}\n",
    "for j in train_df['manager_id'].values:\n",
    "    building_level[j]=[0,0,0]\n",
    "for j in range(train_df.shape[0]):\n",
    "    temp=train_df.iloc[j]\n",
    "    if temp['interest_level']=='low':\n",
    "        building_level[temp['manager_id']][0]+=1\n",
    "    if temp['interest_level']=='medium':\n",
    "        building_level[temp['manager_id']][1]+=1\n",
    "    if temp['interest_level']=='high':\n",
    "        building_level[temp['manager_id']][2]+=1\n",
    "\n",
    "for i in test_df['manager_id'].values:\n",
    "    if i not in building_level.keys():\n",
    "        a.append(np.nan)\n",
    "        b.append(np.nan)\n",
    "        c.append(np.nan)\n",
    "        d.append(np.nan)\n",
    "    else:\n",
    "        a.append(building_level[i][0]*1.0/sum(building_level[i]))\n",
    "        b.append(building_level[i][1]*1.0/sum(building_level[i]))\n",
    "        c.append(building_level[i][2]*1.0/sum(building_level[i]))\n",
    "        d.append(sum(building_level[i]))\n",
    "test_df['manager_level_low']=a\n",
    "test_df['manager_level_medium']=b\n",
    "test_df['manager_level_high']=c\n",
    "test_df['manager_post_num'] = d\n",
    "features_to_use.append('manager_level_low') \n",
    "features_to_use.append('manager_level_medium') \n",
    "features_to_use.append('manager_level_high')\n",
    "features_to_use.append('manager_post_num')"
   ]
  },
  {
   "cell_type": "code",
   "execution_count": 7,
   "metadata": {},
   "outputs": [],
   "source": [
    "categorical = [\"display_address\", \"manager_id\", \"building_id\", \"street_address\"]\n",
    "for f in categorical:\n",
    "        if train_df[f].dtype=='object':\n",
    "            #print(f)\n",
    "            lbl = preprocessing.LabelEncoder()\n",
    "            lbl.fit(list(train_df[f].values) + list(test_df[f].values))\n",
    "            train_df[f] = lbl.transform(list(train_df[f].values))\n",
    "            test_df[f] = lbl.transform(list(test_df[f].values))\n",
    "            features_to_use.append(f)"
   ]
  },
  {
   "cell_type": "code",
   "execution_count": 8,
   "metadata": {},
   "outputs": [
    {
     "name": "stdout",
     "output_type": "stream",
     "text": [
      "10                                                         \n",
      "100004    Laundry_In_Building Dishwasher Hardwood_Floors...\n",
      "100007                               Hardwood_Floors No_Fee\n",
      "100014                                                     \n",
      "100026    Cats_Allowed Dogs_Allowed Elevator Laundry_In_...\n",
      "Name: features, dtype: object\n"
     ]
    }
   ],
   "source": [
    "train_df['features'] = train_df[\"features\"].apply(lambda x: \" \".join([\"_\".join(i.split(\" \")) for i in x]))\n",
    "test_df['features'] = test_df[\"features\"].apply(lambda x: \" \".join([\"_\".join(i.split(\" \")) for i in x]))\n",
    "print(train_df[\"features\"].head())\n",
    "tfidf = TfidfVectorizer(stop_words='english', max_features=200)\n",
    "tr_sparse = tfidf.fit_transform(train_df[\"features\"])\n",
    "te_sparse = tfidf.transform(test_df[\"features\"])"
   ]
  },
  {
   "cell_type": "code",
   "execution_count": 9,
   "metadata": {},
   "outputs": [],
   "source": [
    "train_X = sparse.hstack([train_df[features_to_use], tr_sparse]).tocsr()\n",
    "test_X = sparse.hstack([test_df[features_to_use], te_sparse]).tocsr()\n",
    "\n",
    "\n",
    "train_y = np.array(train_df['interest_level'].apply(lambda x: target_num_map[x]))\n",
    "\n",
    "\n",
    "# print(train_X.shape, test_X.shape)"
   ]
  },
  {
   "cell_type": "code",
   "execution_count": 10,
   "metadata": {},
   "outputs": [],
   "source": [
    "preds, model = runXGB(train_X, train_y, test_X, num_rounds=1000)"
   ]
  },
  {
   "cell_type": "code",
   "execution_count": 11,
   "metadata": {},
   "outputs": [],
   "source": [
    "def pred_to_csv(model_name, y_test):\n",
    "    y_pred = pd.DataFrame()\n",
    "    y_pred['listing_id'] = test_df['listing_id']\n",
    "    for i in range(len(list(y_test))):\n",
    "        [y_pred.loc[y_pred.index[i], 'high'], y_pred.loc[y_pred.index[i], 'low'], y_pred.loc[y_pred.index[i], 'medium']] = list(y_test[i])\n",
    "\n",
    "    print(y_pred.head())\n",
    "\n",
    "    y_pred.to_csv(\"results/pred_\"+ model_name +\".csv\", index=False)\n",
    "\n",
    "    print(\"\\n\\nDone! CSV for \"+model_name+\"'s predictions created!\\n\")"
   ]
  },
  {
   "cell_type": "code",
   "execution_count": 12,
   "metadata": {},
   "outputs": [
    {
     "name": "stdout",
     "output_type": "stream",
     "text": [
      "        listing_id      high       low    medium\n",
      "10000         5529  0.000292  0.994118  0.005590\n",
      "100013       14597  0.001816  0.986276  0.011908\n",
      "100016       43396  0.002123  0.971539  0.026337\n",
      "100020       25538  0.003224  0.941691  0.055085\n",
      "100099       26644  0.000867  0.876206  0.122927\n",
      "\n",
      "\n",
      "Done! CSV for xgboost_25th_submission1's predictions created!\n",
      "\n"
     ]
    }
   ],
   "source": [
    "pred_to_csv(\"xgboost_25th_submission1\", preds)"
   ]
  },
  {
   "cell_type": "code",
   "execution_count": 14,
   "metadata": {},
   "outputs": [],
   "source": [
    "train_df['dist_jfk_airport_lat'] = train_df['latitude'].apply(lambda x: abs(x-40.641590))\n",
    "train_df['dist_jfk_airport_lon'] = train_df['longitude'].apply(lambda x: abs(x+73.778515))\n",
    "test_df['dist_jfk_airport_lat'] = test_df['latitude'].apply(lambda x: abs(x-40.641590))\n",
    "test_df['dist_jfk_airport_lon'] = test_df['longitude'].apply(lambda x: abs(x+73.778515))\n",
    "features_to_use.append('dist_jfk_airport_lat')\n",
    "features_to_use.append('dist_jfk_airport_lon')\n",
    "train_df['dist_wallst_lat'] = train_df['latitude'].apply(lambda x: abs(x-40.705638))\n",
    "train_df['dist_wallst_lon'] = train_df['longitude'].apply(lambda x: abs(x+74.010278))\n",
    "test_df['dist_wallst_lat'] = test_df['latitude'].apply(lambda x: abs(x-40.705638))\n",
    "test_df['dist_wallst_lon'] = test_df['longitude'].apply(lambda x: abs(x+74.010278))\n",
    "features_to_use.append('dist_wallst_lat')\n",
    "features_to_use.append('dist_wallst_lon')\n",
    "train_df['dist_centralpk_lat'] = train_df['latitude'].apply(lambda x: abs(x-40.783661))\n",
    "train_df['dist_centralpk_lon'] = train_df['longitude'].apply(lambda x: abs(x+73.96536827))\n",
    "test_df['dist_centralpk_lat'] = test_df['latitude'].apply(lambda x: abs(x-40.783661))\n",
    "test_df['dist_centralpk_lon'] = test_df['longitude'].apply(lambda x: abs(x+73.96536827))\n",
    "features_to_use.append('dist_centralpk_lat')\n",
    "features_to_use.append('dist_centralpk_lon')\n",
    "train_df['dist_washSqPark_lat'] = train_df['latitude'].apply(lambda x: abs(x-40.73083612))\n",
    "train_df['dist_washSqPark_lon'] = train_df['longitude'].apply(lambda x: abs(x+73.99749041))\n",
    "test_df['dist_washSqPark_lat'] = test_df['latitude'].apply(lambda x: abs(x-40.73083612))\n",
    "test_df['dist_washSqPark_lon'] = test_df['longitude'].apply(lambda x: abs(x+73.99749041))\n",
    "features_to_use.append('dist_washSqPark_lat')\n",
    "features_to_use.append('dist_washSqPark_lon')"
   ]
  },
  {
   "cell_type": "code",
   "execution_count": 15,
   "metadata": {},
   "outputs": [],
   "source": [
    "train_X = sparse.hstack([train_df[features_to_use], tr_sparse]).tocsr()\n",
    "test_X = sparse.hstack([test_df[features_to_use], te_sparse]).tocsr()"
   ]
  },
  {
   "cell_type": "code",
   "execution_count": 16,
   "metadata": {},
   "outputs": [],
   "source": [
    "preds, model = runXGB(train_X, train_y, test_X, num_rounds=1000)"
   ]
  },
  {
   "cell_type": "code",
   "execution_count": 17,
   "metadata": {},
   "outputs": [
    {
     "name": "stdout",
     "output_type": "stream",
     "text": [
      "        listing_id      high       low    medium\n",
      "10000         5529  0.000477  0.991681  0.007842\n",
      "100013       14597  0.001189  0.986393  0.012418\n",
      "100016       43396  0.002069  0.972997  0.024933\n",
      "100020       25538  0.003388  0.951905  0.044707\n",
      "100099       26644  0.000970  0.879702  0.119328\n",
      "\n",
      "\n",
      "Done! CSV for xgboost_25th_submission1's predictions created!\n",
      "\n"
     ]
    }
   ],
   "source": [
    "pred_to_csv(\"xgboost_25th_submission1\", preds)"
   ]
  },
  {
   "cell_type": "code",
   "execution_count": 18,
   "metadata": {},
   "outputs": [
    {
     "name": "stdout",
     "output_type": "stream",
     "text": [
      "['bathrooms', 'bedrooms', 'latitude', 'longitude', 'price', 'price_t', 'num_photos', 'num_features', 'num_description_words', 'listing_id', 'density', 'manager_level_low', 'manager_level_medium', 'manager_level_high', 'manager_post_num', 'display_address', 'manager_id', 'building_id', 'street_address', 'dist_jfk_airport_lat', 'dist_jfk_airport_lon', 'dist_wallst_lat', 'dist_wallst_lon', 'dist_centralpk_lat', 'dist_centralpk_lon', 'dist_washSqPark_lat', 'dist_washSqPark_lon']\n"
     ]
    }
   ],
   "source": [
    "print(features_to_use)"
   ]
  },
  {
   "cell_type": "code",
   "execution_count": 19,
   "metadata": {},
   "outputs": [
    {
     "data": {
      "text/html": [
       "<div>\n",
       "<style scoped>\n",
       "    .dataframe tbody tr th:only-of-type {\n",
       "        vertical-align: middle;\n",
       "    }\n",
       "\n",
       "    .dataframe tbody tr th {\n",
       "        vertical-align: top;\n",
       "    }\n",
       "\n",
       "    .dataframe thead th {\n",
       "        text-align: right;\n",
       "    }\n",
       "</style>\n",
       "<table border=\"1\" class=\"dataframe\">\n",
       "  <thead>\n",
       "    <tr style=\"text-align: right;\">\n",
       "      <th></th>\n",
       "      <th>bathrooms</th>\n",
       "      <th>bedrooms</th>\n",
       "      <th>building_id</th>\n",
       "      <th>created</th>\n",
       "      <th>description</th>\n",
       "      <th>display_address</th>\n",
       "      <th>features</th>\n",
       "      <th>interest_level</th>\n",
       "      <th>latitude</th>\n",
       "      <th>listing_id</th>\n",
       "      <th>...</th>\n",
       "      <th>manager_level_high</th>\n",
       "      <th>manager_post_num</th>\n",
       "      <th>dist_jfk_airport_lat</th>\n",
       "      <th>dist_jfk_airport_lon</th>\n",
       "      <th>dist_wallst_lat</th>\n",
       "      <th>dist_wallst_lon</th>\n",
       "      <th>dist_centralpk_lat</th>\n",
       "      <th>dist_centralpk_lon</th>\n",
       "      <th>dist_washSqPark_lat</th>\n",
       "      <th>dist_washSqPark_lon</th>\n",
       "    </tr>\n",
       "  </thead>\n",
       "  <tbody>\n",
       "    <tr>\n",
       "      <th>10</th>\n",
       "      <td>1.5</td>\n",
       "      <td>3</td>\n",
       "      <td>2431</td>\n",
       "      <td>2016-06-24 07:54:24</td>\n",
       "      <td>A Brand New 3 Bedroom 1.5 bath ApartmentEnjoy ...</td>\n",
       "      <td>6544</td>\n",
       "      <td></td>\n",
       "      <td>medium</td>\n",
       "      <td>40.7145</td>\n",
       "      <td>34633</td>\n",
       "      <td>...</td>\n",
       "      <td>0.000000</td>\n",
       "      <td>57</td>\n",
       "      <td>0.07291</td>\n",
       "      <td>0.163985</td>\n",
       "      <td>0.008862</td>\n",
       "      <td>0.067778</td>\n",
       "      <td>0.069161</td>\n",
       "      <td>0.022868</td>\n",
       "      <td>0.016336</td>\n",
       "      <td>0.05499</td>\n",
       "    </tr>\n",
       "    <tr>\n",
       "      <th>100004</th>\n",
       "      <td>1.0</td>\n",
       "      <td>1</td>\n",
       "      <td>5806</td>\n",
       "      <td>2016-04-17 03:26:41</td>\n",
       "      <td>Top Top West Village location, beautiful Pre-w...</td>\n",
       "      <td>7387</td>\n",
       "      <td>Laundry_In_Building Dishwasher Hardwood_Floors...</td>\n",
       "      <td>high</td>\n",
       "      <td>40.7388</td>\n",
       "      <td>6727</td>\n",
       "      <td>...</td>\n",
       "      <td>0.054795</td>\n",
       "      <td>73</td>\n",
       "      <td>0.09721</td>\n",
       "      <td>0.223285</td>\n",
       "      <td>0.033162</td>\n",
       "      <td>0.008478</td>\n",
       "      <td>0.044861</td>\n",
       "      <td>0.036432</td>\n",
       "      <td>0.007964</td>\n",
       "      <td>0.00431</td>\n",
       "    </tr>\n",
       "    <tr>\n",
       "      <th>100007</th>\n",
       "      <td>1.0</td>\n",
       "      <td>1</td>\n",
       "      <td>1201</td>\n",
       "      <td>2016-04-18 02:22:02</td>\n",
       "      <td>Building Amenities - Garage - Garden - fitness...</td>\n",
       "      <td>5703</td>\n",
       "      <td>Hardwood_Floors No_Fee</td>\n",
       "      <td>low</td>\n",
       "      <td>40.7539</td>\n",
       "      <td>38446</td>\n",
       "      <td>...</td>\n",
       "      <td>0.055556</td>\n",
       "      <td>126</td>\n",
       "      <td>0.11231</td>\n",
       "      <td>0.189185</td>\n",
       "      <td>0.048262</td>\n",
       "      <td>0.042578</td>\n",
       "      <td>0.029761</td>\n",
       "      <td>0.002332</td>\n",
       "      <td>0.023064</td>\n",
       "      <td>0.02979</td>\n",
       "    </tr>\n",
       "    <tr>\n",
       "      <th>100014</th>\n",
       "      <td>2.0</td>\n",
       "      <td>4</td>\n",
       "      <td>1633</td>\n",
       "      <td>2016-04-19 04:24:47</td>\n",
       "      <td></td>\n",
       "      <td>8351</td>\n",
       "      <td></td>\n",
       "      <td>medium</td>\n",
       "      <td>40.7429</td>\n",
       "      <td>2808</td>\n",
       "      <td>...</td>\n",
       "      <td>0.000000</td>\n",
       "      <td>121</td>\n",
       "      <td>0.10131</td>\n",
       "      <td>0.224285</td>\n",
       "      <td>0.037262</td>\n",
       "      <td>0.007478</td>\n",
       "      <td>0.040761</td>\n",
       "      <td>0.037432</td>\n",
       "      <td>0.012064</td>\n",
       "      <td>0.00531</td>\n",
       "    </tr>\n",
       "    <tr>\n",
       "      <th>100026</th>\n",
       "      <td>1.0</td>\n",
       "      <td>1</td>\n",
       "      <td>4991</td>\n",
       "      <td>2016-04-20 02:36:35</td>\n",
       "      <td>&lt;p&gt;&lt;a  website_redacted</td>\n",
       "      <td>6153</td>\n",
       "      <td>Cats_Allowed Dogs_Allowed Elevator Laundry_In_...</td>\n",
       "      <td>medium</td>\n",
       "      <td>40.8234</td>\n",
       "      <td>21731</td>\n",
       "      <td>...</td>\n",
       "      <td>0.183333</td>\n",
       "      <td>60</td>\n",
       "      <td>0.18181</td>\n",
       "      <td>0.167185</td>\n",
       "      <td>0.117762</td>\n",
       "      <td>0.064578</td>\n",
       "      <td>0.039739</td>\n",
       "      <td>0.019668</td>\n",
       "      <td>0.092564</td>\n",
       "      <td>0.05179</td>\n",
       "    </tr>\n",
       "  </tbody>\n",
       "</table>\n",
       "<p>5 rows × 34 columns</p>\n",
       "</div>"
      ],
      "text/plain": [
       "        bathrooms  bedrooms  building_id              created  \\\n",
       "10            1.5         3         2431  2016-06-24 07:54:24   \n",
       "100004        1.0         1         5806  2016-04-17 03:26:41   \n",
       "100007        1.0         1         1201  2016-04-18 02:22:02   \n",
       "100014        2.0         4         1633  2016-04-19 04:24:47   \n",
       "100026        1.0         1         4991  2016-04-20 02:36:35   \n",
       "\n",
       "                                              description  display_address  \\\n",
       "10      A Brand New 3 Bedroom 1.5 bath ApartmentEnjoy ...             6544   \n",
       "100004  Top Top West Village location, beautiful Pre-w...             7387   \n",
       "100007  Building Amenities - Garage - Garden - fitness...             5703   \n",
       "100014                                                                8351   \n",
       "100026                           <p><a  website_redacted              6153   \n",
       "\n",
       "                                                 features interest_level  \\\n",
       "10                                                                medium   \n",
       "100004  Laundry_In_Building Dishwasher Hardwood_Floors...           high   \n",
       "100007                             Hardwood_Floors No_Fee            low   \n",
       "100014                                                            medium   \n",
       "100026  Cats_Allowed Dogs_Allowed Elevator Laundry_In_...         medium   \n",
       "\n",
       "        latitude  listing_id         ...           manager_level_high  \\\n",
       "10       40.7145       34633         ...                     0.000000   \n",
       "100004   40.7388        6727         ...                     0.054795   \n",
       "100007   40.7539       38446         ...                     0.055556   \n",
       "100014   40.7429        2808         ...                     0.000000   \n",
       "100026   40.8234       21731         ...                     0.183333   \n",
       "\n",
       "        manager_post_num dist_jfk_airport_lat  dist_jfk_airport_lon  \\\n",
       "10                    57              0.07291              0.163985   \n",
       "100004                73              0.09721              0.223285   \n",
       "100007               126              0.11231              0.189185   \n",
       "100014               121              0.10131              0.224285   \n",
       "100026                60              0.18181              0.167185   \n",
       "\n",
       "        dist_wallst_lat  dist_wallst_lon  dist_centralpk_lat  \\\n",
       "10             0.008862         0.067778            0.069161   \n",
       "100004         0.033162         0.008478            0.044861   \n",
       "100007         0.048262         0.042578            0.029761   \n",
       "100014         0.037262         0.007478            0.040761   \n",
       "100026         0.117762         0.064578            0.039739   \n",
       "\n",
       "        dist_centralpk_lon  dist_washSqPark_lat  dist_washSqPark_lon  \n",
       "10                0.022868             0.016336              0.05499  \n",
       "100004            0.036432             0.007964              0.00431  \n",
       "100007            0.002332             0.023064              0.02979  \n",
       "100014            0.037432             0.012064              0.00531  \n",
       "100026            0.019668             0.092564              0.05179  \n",
       "\n",
       "[5 rows x 34 columns]"
      ]
     },
     "execution_count": 19,
     "metadata": {},
     "output_type": "execute_result"
    }
   ],
   "source": [
    "train_df.head()"
   ]
  },
  {
   "cell_type": "code",
   "execution_count": 20,
   "metadata": {},
   "outputs": [],
   "source": [
    "count_train = pd.read_csv(\"X_count.csv\")\n",
    "count_test = pd.read_csv(\"X_test_count.csv\")"
   ]
  },
  {
   "cell_type": "code",
   "execution_count": 22,
   "metadata": {},
   "outputs": [
    {
     "name": "stdout",
     "output_type": "stream",
     "text": [
      "<class 'pandas.core.frame.DataFrame'>\n",
      "RangeIndex: 39481 entries, 0 to 39480\n",
      "Data columns (total 5 columns):\n",
      "index                       39481 non-null int64\n",
      "manager_listings_count      39481 non-null int64\n",
      "building_listings_count     39481 non-null int64\n",
      "s_address_listings_count    39481 non-null int64\n",
      "d_address_listings_count    39481 non-null int64\n",
      "dtypes: int64(5)\n",
      "memory usage: 1.5 MB\n"
     ]
    }
   ],
   "source": [
    "count_train.info()"
   ]
  },
  {
   "cell_type": "code",
   "execution_count": 23,
   "metadata": {},
   "outputs": [
    {
     "name": "stdout",
     "output_type": "stream",
     "text": [
      "<class 'pandas.core.frame.DataFrame'>\n",
      "Int64Index: 39481 entries, 10 to 99994\n",
      "Data columns (total 34 columns):\n",
      "bathrooms                39481 non-null float64\n",
      "bedrooms                 39481 non-null int64\n",
      "building_id              39481 non-null int64\n",
      "created                  39481 non-null object\n",
      "description              39481 non-null object\n",
      "display_address          39481 non-null int64\n",
      "features                 39481 non-null object\n",
      "interest_level           39481 non-null object\n",
      "latitude                 39481 non-null float64\n",
      "listing_id               39481 non-null int64\n",
      "longitude                39481 non-null float64\n",
      "manager_id               39481 non-null int64\n",
      "photos                   39481 non-null object\n",
      "price                    39481 non-null int64\n",
      "street_address           39481 non-null int64\n",
      "price_t                  39481 non-null float64\n",
      "room_sum                 39481 non-null float64\n",
      "num_photos               39481 non-null int64\n",
      "num_features             39481 non-null int64\n",
      "num_description_words    39481 non-null int64\n",
      "pos                      39481 non-null object\n",
      "density                  39481 non-null int64\n",
      "manager_level_low        38337 non-null float64\n",
      "manager_level_medium     38337 non-null float64\n",
      "manager_level_high       38337 non-null float64\n",
      "manager_post_num         39481 non-null int64\n",
      "dist_jfk_airport_lat     39481 non-null float64\n",
      "dist_jfk_airport_lon     39481 non-null float64\n",
      "dist_wallst_lat          39481 non-null float64\n",
      "dist_wallst_lon          39481 non-null float64\n",
      "dist_centralpk_lat       39481 non-null float64\n",
      "dist_centralpk_lon       39481 non-null float64\n",
      "dist_washSqPark_lat      39481 non-null float64\n",
      "dist_washSqPark_lon      39481 non-null float64\n",
      "dtypes: float64(16), int64(12), object(6)\n",
      "memory usage: 10.5+ MB\n"
     ]
    }
   ],
   "source": [
    "train_df.info()"
   ]
  },
  {
   "cell_type": "code",
   "execution_count": 24,
   "metadata": {},
   "outputs": [],
   "source": [
    "train_df['manager_listings_count'] = count_train['manager_listings_count']\n",
    "train_df['building_listings_count'] = count_train['building_listings_count']\n",
    "train_df['s_address_listings_count'] = count_train['s_address_listings_count']\n",
    "train_df['d_address_listings_count'] = count_train['d_address_listings_count']\n",
    "test_df['manager_listings_count'] = count_test['manager_listings_count']\n",
    "test_df['building_listings_count'] = count_test['building_listings_count']\n",
    "test_df['s_address_listings_count'] = count_test['s_address_listings_count']\n",
    "test_df['d_address_listings_count'] = count_test['d_address_listings_count']"
   ]
  },
  {
   "cell_type": "code",
   "execution_count": 25,
   "metadata": {},
   "outputs": [],
   "source": [
    "features_to_use.append('manager_listings_count')\n",
    "features_to_use.append('building_listings_count')\n",
    "features_to_use.append('s_address_listings_count')\n",
    "features_to_use.append('d_address_listings_count')"
   ]
  },
  {
   "cell_type": "code",
   "execution_count": 26,
   "metadata": {},
   "outputs": [],
   "source": [
    "train_X = sparse.hstack([train_df[features_to_use], tr_sparse]).tocsr()\n",
    "test_X = sparse.hstack([test_df[features_to_use], te_sparse]).tocsr()"
   ]
  },
  {
   "cell_type": "code",
   "execution_count": 27,
   "metadata": {},
   "outputs": [],
   "source": [
    "preds, model = runXGB(train_X, train_y, test_X, num_rounds=1000)"
   ]
  },
  {
   "cell_type": "code",
   "execution_count": 30,
   "metadata": {},
   "outputs": [
    {
     "name": "stdout",
     "output_type": "stream",
     "text": [
      "        listing_id      high       low    medium\n",
      "10000         5529  0.000400  0.992036  0.007564\n",
      "100013       14597  0.002050  0.984002  0.013947\n",
      "100016       43396  0.001898  0.972809  0.025294\n",
      "100020       25538  0.003920  0.959988  0.036092\n",
      "100099       26644  0.000798  0.885936  0.113266\n",
      "\n",
      "\n",
      "Done! CSV for xgboost_25th_submission2's predictions created!\n",
      "\n"
     ]
    }
   ],
   "source": [
    "pred_to_csv(\"xgboost_25th_submission2\", preds)"
   ]
  },
  {
   "cell_type": "code",
   "execution_count": 31,
   "metadata": {},
   "outputs": [
    {
     "name": "stdout",
     "output_type": "stream",
     "text": [
      "['bathrooms', 'bedrooms', 'latitude', 'longitude', 'price', 'price_t', 'num_photos', 'num_features', 'num_description_words', 'listing_id', 'density', 'manager_level_low', 'manager_level_medium', 'manager_level_high', 'manager_post_num', 'display_address', 'manager_id', 'building_id', 'street_address', 'dist_jfk_airport_lat', 'dist_jfk_airport_lon', 'dist_wallst_lat', 'dist_wallst_lon', 'dist_centralpk_lat', 'dist_centralpk_lon', 'dist_washSqPark_lat', 'dist_washSqPark_lon', 'manager_listings_count', 'building_listings_count', 's_address_listings_count', 'd_address_listings_count']\n"
     ]
    }
   ],
   "source": [
    "print(features_to_use)"
   ]
  },
  {
   "cell_type": "code",
   "execution_count": null,
   "metadata": {},
   "outputs": [],
   "source": []
  }
 ],
 "metadata": {
  "kernelspec": {
   "display_name": "Python 3",
   "language": "python",
   "name": "python3"
  },
  "language_info": {
   "codemirror_mode": {
    "name": "ipython",
    "version": 3
   },
   "file_extension": ".py",
   "mimetype": "text/x-python",
   "name": "python",
   "nbconvert_exporter": "python",
   "pygments_lexer": "ipython3",
   "version": "3.5.2"
  }
 },
 "nbformat": 4,
 "nbformat_minor": 2
}
